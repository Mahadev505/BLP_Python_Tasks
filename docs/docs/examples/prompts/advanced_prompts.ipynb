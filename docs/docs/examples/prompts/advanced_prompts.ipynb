{
  "cells": [
    {
      "cell_type": "markdown",
      "id": "dd8b51d9-b28c-44b8-a73e-926c90b018a3",
      "metadata": {
        "id": "dd8b51d9-b28c-44b8-a73e-926c90b018a3"
      },
      "source": [
        "<a href=\"https://colab.research.google.com/github/run-llama/llama_index/blob/main/docs/docs/examples/prompts/advanced_prompts.ipynb\" target=\"_parent\"><img src=\"https://colab.research.google.com/assets/colab-badge.svg\" alt=\"Open In Colab\"/></a>"
      ]
    },
    {
      "cell_type": "markdown",
      "id": "c5ec4ea1-78bb-4dfe-b193-ab9ba5a10e4c",
      "metadata": {
        "id": "c5ec4ea1-78bb-4dfe-b193-ab9ba5a10e4c"
      },
      "source": [
        "# Advanced Prompt Techniques (Variable Mappings, Functions)\n",
        "\n",
        "In this notebook we show some advanced prompt techniques. These features allow you to define more custom/expressive prompts, re-use existing ones, and also express certain operations in fewer lines of code.\n",
        "\n",
        "\n",
        "We show the following features:\n",
        "1. Partial formatting\n",
        "2. Prompt template variable mappings\n",
        "3. Prompt function mappings"
      ]
    },
    {
      "cell_type": "code",
      "execution_count": 1,
      "id": "0a50028b",
      "metadata": {
        "collapsed": true,
        "id": "0a50028b",
        "outputId": "15e2a2a4-73fa-4fe0-e2c6-0dd3b2ffb18d",
        "colab": {
          "base_uri": "https://localhost:8080/"
        }
      },
      "outputs": [
        {
          "output_type": "stream",
          "name": "stdout",
          "text": [
            "Collecting llama-index-llms-openai\n",
            "  Downloading llama_index_llms_openai-0.2.16-py3-none-any.whl.metadata (3.3 kB)\n",
            "Collecting llama-index-core<0.12.0,>=0.11.7 (from llama-index-llms-openai)\n",
            "  Downloading llama_index_core-0.11.23-py3-none-any.whl.metadata (2.5 kB)\n",
            "Requirement already satisfied: openai<2.0.0,>=1.40.0 in /usr/local/lib/python3.10/dist-packages (from llama-index-llms-openai) (1.54.3)\n",
            "Requirement already satisfied: PyYAML>=6.0.1 in /usr/local/lib/python3.10/dist-packages (from llama-index-core<0.12.0,>=0.11.7->llama-index-llms-openai) (6.0.2)\n",
            "Requirement already satisfied: SQLAlchemy>=1.4.49 in /usr/local/lib/python3.10/dist-packages (from SQLAlchemy[asyncio]>=1.4.49->llama-index-core<0.12.0,>=0.11.7->llama-index-llms-openai) (2.0.36)\n",
            "Requirement already satisfied: aiohttp<4.0.0,>=3.8.6 in /usr/local/lib/python3.10/dist-packages (from llama-index-core<0.12.0,>=0.11.7->llama-index-llms-openai) (3.10.10)\n",
            "Collecting dataclasses-json (from llama-index-core<0.12.0,>=0.11.7->llama-index-llms-openai)\n",
            "  Downloading dataclasses_json-0.6.7-py3-none-any.whl.metadata (25 kB)\n",
            "Requirement already satisfied: deprecated>=1.2.9.3 in /usr/local/lib/python3.10/dist-packages (from llama-index-core<0.12.0,>=0.11.7->llama-index-llms-openai) (1.2.14)\n",
            "Collecting dirtyjson<2.0.0,>=1.0.8 (from llama-index-core<0.12.0,>=0.11.7->llama-index-llms-openai)\n",
            "  Downloading dirtyjson-1.0.8-py3-none-any.whl.metadata (11 kB)\n",
            "Collecting filetype<2.0.0,>=1.2.0 (from llama-index-core<0.12.0,>=0.11.7->llama-index-llms-openai)\n",
            "  Downloading filetype-1.2.0-py2.py3-none-any.whl.metadata (6.5 kB)\n",
            "Requirement already satisfied: fsspec>=2023.5.0 in /usr/local/lib/python3.10/dist-packages (from llama-index-core<0.12.0,>=0.11.7->llama-index-llms-openai) (2024.10.0)\n",
            "Requirement already satisfied: httpx in /usr/local/lib/python3.10/dist-packages (from llama-index-core<0.12.0,>=0.11.7->llama-index-llms-openai) (0.27.2)\n",
            "Requirement already satisfied: nest-asyncio<2.0.0,>=1.5.8 in /usr/local/lib/python3.10/dist-packages (from llama-index-core<0.12.0,>=0.11.7->llama-index-llms-openai) (1.6.0)\n",
            "Requirement already satisfied: networkx>=3.0 in /usr/local/lib/python3.10/dist-packages (from llama-index-core<0.12.0,>=0.11.7->llama-index-llms-openai) (3.4.2)\n",
            "Requirement already satisfied: nltk>3.8.1 in /usr/local/lib/python3.10/dist-packages (from llama-index-core<0.12.0,>=0.11.7->llama-index-llms-openai) (3.9.1)\n",
            "Requirement already satisfied: numpy<2.0.0 in /usr/local/lib/python3.10/dist-packages (from llama-index-core<0.12.0,>=0.11.7->llama-index-llms-openai) (1.26.4)\n",
            "Requirement already satisfied: pillow>=9.0.0 in /usr/local/lib/python3.10/dist-packages (from llama-index-core<0.12.0,>=0.11.7->llama-index-llms-openai) (11.0.0)\n",
            "Requirement already satisfied: pydantic<3.0.0,>=2.7.0 in /usr/local/lib/python3.10/dist-packages (from llama-index-core<0.12.0,>=0.11.7->llama-index-llms-openai) (2.9.2)\n",
            "Requirement already satisfied: requests>=2.31.0 in /usr/local/lib/python3.10/dist-packages (from llama-index-core<0.12.0,>=0.11.7->llama-index-llms-openai) (2.32.3)\n",
            "Collecting tenacity!=8.4.0,<9.0.0,>=8.2.0 (from llama-index-core<0.12.0,>=0.11.7->llama-index-llms-openai)\n",
            "  Downloading tenacity-8.5.0-py3-none-any.whl.metadata (1.2 kB)\n",
            "Collecting tiktoken>=0.3.3 (from llama-index-core<0.12.0,>=0.11.7->llama-index-llms-openai)\n",
            "  Downloading tiktoken-0.8.0-cp310-cp310-manylinux_2_17_x86_64.manylinux2014_x86_64.whl.metadata (6.6 kB)\n",
            "Requirement already satisfied: tqdm<5.0.0,>=4.66.1 in /usr/local/lib/python3.10/dist-packages (from llama-index-core<0.12.0,>=0.11.7->llama-index-llms-openai) (4.66.6)\n",
            "Requirement already satisfied: typing-extensions>=4.5.0 in /usr/local/lib/python3.10/dist-packages (from llama-index-core<0.12.0,>=0.11.7->llama-index-llms-openai) (4.12.2)\n",
            "Collecting typing-inspect>=0.8.0 (from llama-index-core<0.12.0,>=0.11.7->llama-index-llms-openai)\n",
            "  Downloading typing_inspect-0.9.0-py3-none-any.whl.metadata (1.5 kB)\n",
            "Requirement already satisfied: wrapt in /usr/local/lib/python3.10/dist-packages (from llama-index-core<0.12.0,>=0.11.7->llama-index-llms-openai) (1.16.0)\n",
            "Requirement already satisfied: anyio<5,>=3.5.0 in /usr/local/lib/python3.10/dist-packages (from openai<2.0.0,>=1.40.0->llama-index-llms-openai) (3.7.1)\n",
            "Requirement already satisfied: distro<2,>=1.7.0 in /usr/local/lib/python3.10/dist-packages (from openai<2.0.0,>=1.40.0->llama-index-llms-openai) (1.9.0)\n",
            "Requirement already satisfied: jiter<1,>=0.4.0 in /usr/local/lib/python3.10/dist-packages (from openai<2.0.0,>=1.40.0->llama-index-llms-openai) (0.7.0)\n",
            "Requirement already satisfied: sniffio in /usr/local/lib/python3.10/dist-packages (from openai<2.0.0,>=1.40.0->llama-index-llms-openai) (1.3.1)\n",
            "Requirement already satisfied: aiohappyeyeballs>=2.3.0 in /usr/local/lib/python3.10/dist-packages (from aiohttp<4.0.0,>=3.8.6->llama-index-core<0.12.0,>=0.11.7->llama-index-llms-openai) (2.4.3)\n",
            "Requirement already satisfied: aiosignal>=1.1.2 in /usr/local/lib/python3.10/dist-packages (from aiohttp<4.0.0,>=3.8.6->llama-index-core<0.12.0,>=0.11.7->llama-index-llms-openai) (1.3.1)\n",
            "Requirement already satisfied: attrs>=17.3.0 in /usr/local/lib/python3.10/dist-packages (from aiohttp<4.0.0,>=3.8.6->llama-index-core<0.12.0,>=0.11.7->llama-index-llms-openai) (24.2.0)\n",
            "Requirement already satisfied: frozenlist>=1.1.1 in /usr/local/lib/python3.10/dist-packages (from aiohttp<4.0.0,>=3.8.6->llama-index-core<0.12.0,>=0.11.7->llama-index-llms-openai) (1.5.0)\n",
            "Requirement already satisfied: multidict<7.0,>=4.5 in /usr/local/lib/python3.10/dist-packages (from aiohttp<4.0.0,>=3.8.6->llama-index-core<0.12.0,>=0.11.7->llama-index-llms-openai) (6.1.0)\n",
            "Requirement already satisfied: yarl<2.0,>=1.12.0 in /usr/local/lib/python3.10/dist-packages (from aiohttp<4.0.0,>=3.8.6->llama-index-core<0.12.0,>=0.11.7->llama-index-llms-openai) (1.17.1)\n",
            "Requirement already satisfied: async-timeout<5.0,>=4.0 in /usr/local/lib/python3.10/dist-packages (from aiohttp<4.0.0,>=3.8.6->llama-index-core<0.12.0,>=0.11.7->llama-index-llms-openai) (4.0.3)\n",
            "Requirement already satisfied: idna>=2.8 in /usr/local/lib/python3.10/dist-packages (from anyio<5,>=3.5.0->openai<2.0.0,>=1.40.0->llama-index-llms-openai) (3.10)\n",
            "Requirement already satisfied: exceptiongroup in /usr/local/lib/python3.10/dist-packages (from anyio<5,>=3.5.0->openai<2.0.0,>=1.40.0->llama-index-llms-openai) (1.2.2)\n",
            "Requirement already satisfied: certifi in /usr/local/lib/python3.10/dist-packages (from httpx->llama-index-core<0.12.0,>=0.11.7->llama-index-llms-openai) (2024.8.30)\n",
            "Requirement already satisfied: httpcore==1.* in /usr/local/lib/python3.10/dist-packages (from httpx->llama-index-core<0.12.0,>=0.11.7->llama-index-llms-openai) (1.0.6)\n",
            "Requirement already satisfied: h11<0.15,>=0.13 in /usr/local/lib/python3.10/dist-packages (from httpcore==1.*->httpx->llama-index-core<0.12.0,>=0.11.7->llama-index-llms-openai) (0.14.0)\n",
            "Requirement already satisfied: click in /usr/local/lib/python3.10/dist-packages (from nltk>3.8.1->llama-index-core<0.12.0,>=0.11.7->llama-index-llms-openai) (8.1.7)\n",
            "Requirement already satisfied: joblib in /usr/local/lib/python3.10/dist-packages (from nltk>3.8.1->llama-index-core<0.12.0,>=0.11.7->llama-index-llms-openai) (1.4.2)\n",
            "Requirement already satisfied: regex>=2021.8.3 in /usr/local/lib/python3.10/dist-packages (from nltk>3.8.1->llama-index-core<0.12.0,>=0.11.7->llama-index-llms-openai) (2024.9.11)\n",
            "Requirement already satisfied: annotated-types>=0.6.0 in /usr/local/lib/python3.10/dist-packages (from pydantic<3.0.0,>=2.7.0->llama-index-core<0.12.0,>=0.11.7->llama-index-llms-openai) (0.7.0)\n",
            "Requirement already satisfied: pydantic-core==2.23.4 in /usr/local/lib/python3.10/dist-packages (from pydantic<3.0.0,>=2.7.0->llama-index-core<0.12.0,>=0.11.7->llama-index-llms-openai) (2.23.4)\n",
            "Requirement already satisfied: charset-normalizer<4,>=2 in /usr/local/lib/python3.10/dist-packages (from requests>=2.31.0->llama-index-core<0.12.0,>=0.11.7->llama-index-llms-openai) (3.4.0)\n",
            "Requirement already satisfied: urllib3<3,>=1.21.1 in /usr/local/lib/python3.10/dist-packages (from requests>=2.31.0->llama-index-core<0.12.0,>=0.11.7->llama-index-llms-openai) (2.2.3)\n",
            "Requirement already satisfied: greenlet!=0.4.17 in /usr/local/lib/python3.10/dist-packages (from SQLAlchemy>=1.4.49->SQLAlchemy[asyncio]>=1.4.49->llama-index-core<0.12.0,>=0.11.7->llama-index-llms-openai) (3.1.1)\n",
            "Collecting mypy-extensions>=0.3.0 (from typing-inspect>=0.8.0->llama-index-core<0.12.0,>=0.11.7->llama-index-llms-openai)\n",
            "  Downloading mypy_extensions-1.0.0-py3-none-any.whl.metadata (1.1 kB)\n",
            "Collecting marshmallow<4.0.0,>=3.18.0 (from dataclasses-json->llama-index-core<0.12.0,>=0.11.7->llama-index-llms-openai)\n",
            "  Downloading marshmallow-3.23.1-py3-none-any.whl.metadata (7.5 kB)\n",
            "Requirement already satisfied: packaging>=17.0 in /usr/local/lib/python3.10/dist-packages (from marshmallow<4.0.0,>=3.18.0->dataclasses-json->llama-index-core<0.12.0,>=0.11.7->llama-index-llms-openai) (24.2)\n",
            "Requirement already satisfied: propcache>=0.2.0 in /usr/local/lib/python3.10/dist-packages (from yarl<2.0,>=1.12.0->aiohttp<4.0.0,>=3.8.6->llama-index-core<0.12.0,>=0.11.7->llama-index-llms-openai) (0.2.0)\n",
            "Downloading llama_index_llms_openai-0.2.16-py3-none-any.whl (13 kB)\n",
            "Downloading llama_index_core-0.11.23-py3-none-any.whl (1.6 MB)\n",
            "\u001b[2K   \u001b[90m━━━━━━━━━━━━━━━━━━━━━━━━━━━━━━━━━━━━━━━━\u001b[0m \u001b[32m1.6/1.6 MB\u001b[0m \u001b[31m20.0 MB/s\u001b[0m eta \u001b[36m0:00:00\u001b[0m\n",
            "\u001b[?25hDownloading dirtyjson-1.0.8-py3-none-any.whl (25 kB)\n",
            "Downloading filetype-1.2.0-py2.py3-none-any.whl (19 kB)\n",
            "Downloading tenacity-8.5.0-py3-none-any.whl (28 kB)\n",
            "Downloading tiktoken-0.8.0-cp310-cp310-manylinux_2_17_x86_64.manylinux2014_x86_64.whl (1.2 MB)\n",
            "\u001b[2K   \u001b[90m━━━━━━━━━━━━━━━━━━━━━━━━━━━━━━━━━━━━━━━━\u001b[0m \u001b[32m1.2/1.2 MB\u001b[0m \u001b[31m28.6 MB/s\u001b[0m eta \u001b[36m0:00:00\u001b[0m\n",
            "\u001b[?25hDownloading typing_inspect-0.9.0-py3-none-any.whl (8.8 kB)\n",
            "Downloading dataclasses_json-0.6.7-py3-none-any.whl (28 kB)\n",
            "Downloading marshmallow-3.23.1-py3-none-any.whl (49 kB)\n",
            "\u001b[2K   \u001b[90m━━━━━━━━━━━━━━━━━━━━━━━━━━━━━━━━━━━━━━━━\u001b[0m \u001b[32m49.5/49.5 kB\u001b[0m \u001b[31m2.9 MB/s\u001b[0m eta \u001b[36m0:00:00\u001b[0m\n",
            "\u001b[?25hDownloading mypy_extensions-1.0.0-py3-none-any.whl (4.7 kB)\n",
            "Installing collected packages: filetype, dirtyjson, tenacity, mypy-extensions, marshmallow, typing-inspect, tiktoken, dataclasses-json, llama-index-core, llama-index-llms-openai\n",
            "  Attempting uninstall: tenacity\n",
            "    Found existing installation: tenacity 9.0.0\n",
            "    Uninstalling tenacity-9.0.0:\n",
            "      Successfully uninstalled tenacity-9.0.0\n",
            "Successfully installed dataclasses-json-0.6.7 dirtyjson-1.0.8 filetype-1.2.0 llama-index-core-0.11.23 llama-index-llms-openai-0.2.16 marshmallow-3.23.1 mypy-extensions-1.0.0 tenacity-8.5.0 tiktoken-0.8.0 typing-inspect-0.9.0\n"
          ]
        }
      ],
      "source": [
        "%pip install llama-index-llms-openai"
      ]
    },
    {
      "cell_type": "code",
      "execution_count": 2,
      "id": "e1cd3473-df8c-4b5c-abac-d663b0117fef",
      "metadata": {
        "id": "e1cd3473-df8c-4b5c-abac-d663b0117fef"
      },
      "outputs": [],
      "source": [
        "from llama_index.core import PromptTemplate\n",
        "from llama_index.llms.openai import OpenAI"
      ]
    },
    {
      "cell_type": "markdown",
      "id": "f435c4df-3682-4a8a-872b-a79ace3695ee",
      "metadata": {
        "id": "f435c4df-3682-4a8a-872b-a79ace3695ee"
      },
      "source": [
        "## 1. Partial Formatting\n",
        "\n",
        "Partial formatting (`partial_format`) allows you to partially format a prompt, filling in some variables while leaving others to be filled in later.\n",
        "\n",
        "This is a nice convenience function so you don't have to maintain all the required prompt variables all the way down to `format`, you can partially format as they come in.\n",
        "\n",
        "This will create a copy of the prompt template."
      ]
    },
    {
      "cell_type": "code",
      "execution_count": 3,
      "id": "a19eaa7f-1e72-498f-8e29-fec9b1ef9ceb",
      "metadata": {
        "id": "a19eaa7f-1e72-498f-8e29-fec9b1ef9ceb"
      },
      "outputs": [],
      "source": [
        "qa_prompt_tmpl_str = \"\"\"\\\n",
        "Context information is below.\n",
        "---------------------\n",
        "{context_str}\n",
        "---------------------\n",
        "Given the context information and not prior knowledge, answer the query.\n",
        "Please write the answer in the style of {tone_name}\n",
        "Query: {query_str}\n",
        "Answer: \\\n",
        "\"\"\"\n",
        "\n",
        "prompt_tmpl = PromptTemplate(qa_prompt_tmpl_str)"
      ]
    },
    {
      "cell_type": "code",
      "execution_count": 4,
      "id": "933db073-712d-4feb-b49f-6c64a20ec2fa",
      "metadata": {
        "id": "933db073-712d-4feb-b49f-6c64a20ec2fa"
      },
      "outputs": [],
      "source": [
        "partial_prompt_tmpl = prompt_tmpl.partial_format(tone_name=\"Shakespeare\")"
      ]
    },
    {
      "cell_type": "code",
      "execution_count": 11,
      "id": "470446e4-aeb9-40cb-9017-fcdd03af8d4c",
      "metadata": {
        "id": "470446e4-aeb9-40cb-9017-fcdd03af8d4c",
        "outputId": "e8785ba2-9f3f-4d5e-d678-e9f925a0637c",
        "colab": {
          "base_uri": "https://localhost:8080/"
        }
      },
      "outputs": [
        {
          "output_type": "execute_result",
          "data": {
            "text/plain": [
              "{'tone_name': 'Shakespeare'}"
            ]
          },
          "metadata": {},
          "execution_count": 11
        }
      ],
      "source": [
        "partial_prompt_tmpl.kwargs"
      ]
    },
    {
      "cell_type": "code",
      "execution_count": 12,
      "id": "b9627977-5d2a-4300-a9da-91a5dfb671a3",
      "metadata": {
        "id": "b9627977-5d2a-4300-a9da-91a5dfb671a3",
        "outputId": "d4049c3a-eab7-4a51-e74c-d5fbe983b57f",
        "colab": {
          "base_uri": "https://localhost:8080/"
        }
      },
      "outputs": [
        {
          "output_type": "stream",
          "name": "stdout",
          "text": [
            "Context information is below.\n",
            "---------------------\n",
            "In this work, we develop and release Llama 2, a collection of pretrained and fine-tuned large language models (LLMs) ranging in scale from 7 billion to 70 billion parameters\n",
            "---------------------\n",
            "Given the context information and not prior knowledge, answer the query.\n",
            "Please write the answer in the style of Shakespeare\n",
            "Query: How many params does llama 2 have\n",
            "Answer: \n"
          ]
        }
      ],
      "source": [
        "fmt_prompt = partial_prompt_tmpl.format(\n",
        "    context_str=\"In this work, we develop and release Llama 2, a collection of pretrained and fine-tuned large language models (LLMs) ranging in scale from 7 billion to 70 billion parameters\",\n",
        "    query_str=\"How many params does llama 2 have\",\n",
        ")\n",
        "print(fmt_prompt)"
      ]
    },
    {
      "cell_type": "markdown",
      "id": "1cf5e3d8-a0f8-40fd-ba32-b72f01036c24",
      "metadata": {
        "id": "1cf5e3d8-a0f8-40fd-ba32-b72f01036c24"
      },
      "source": [
        "## 2. Prompt Template Variable Mappings\n",
        "\n",
        "Template var mappings allow you to specify a mapping from the \"expected\" prompt keys (e.g. `context_str` and `query_str` for response synthesis), with the keys actually in your template.\n",
        "\n",
        "This allows you re-use your existing string templates without having to annoyingly change out the template variables."
      ]
    },
    {
      "cell_type": "code",
      "execution_count": 7,
      "id": "e197319a-37cc-4a3f-a623-8fffb9c3d932",
      "metadata": {
        "id": "e197319a-37cc-4a3f-a623-8fffb9c3d932"
      },
      "outputs": [],
      "source": [
        "# NOTE: here notice we use `my_context` and `my_query` as template variables\n",
        "\n",
        "qa_prompt_tmpl_str = \"\"\"\\\n",
        "Context information is below.\n",
        "---------------------\n",
        "{my_context}\n",
        "---------------------\n",
        "Given the context information and not prior knowledge, answer the query.\n",
        "Query: {my_query}\n",
        "Answer: \\\n",
        "\"\"\"\n",
        "\n",
        "template_var_mappings = {\"context_str\": \"my_context\", \"query_str\": \"my_query\"}\n",
        "\n",
        "prompt_tmpl = PromptTemplate(\n",
        "    qa_prompt_tmpl_str, template_var_mappings=template_var_mappings\n",
        ")"
      ]
    },
    {
      "cell_type": "code",
      "execution_count": 8,
      "id": "44936c0f-bae1-4955-b59f-4bcfb373bdc8",
      "metadata": {
        "id": "44936c0f-bae1-4955-b59f-4bcfb373bdc8",
        "outputId": "5ebdcb5e-b14b-46b2-cc92-43bc55726cca",
        "colab": {
          "base_uri": "https://localhost:8080/"
        }
      },
      "outputs": [
        {
          "output_type": "stream",
          "name": "stdout",
          "text": [
            "Context information is below.\n",
            "---------------------\n",
            "In this work, we develop and release Llama 2, a collection of pretrained and fine-tuned large language models (LLMs) ranging in scale from 7 billion to 70 billion parameters\n",
            "---------------------\n",
            "Given the context information and not prior knowledge, answer the query.\n",
            "Please write the answer in the style of Shakespeare\n",
            "Query: How many params does llama 2 have\n",
            "Answer: \n"
          ]
        }
      ],
      "source": [
        "fmt_prompt = partial_prompt_tmpl.format(\n",
        "    context_str=\"In this work, we develop and release Llama 2, a collection of pretrained and fine-tuned large language models (LLMs) ranging in scale from 7 billion to 70 billion parameters\",\n",
        "    query_str=\"How many params does llama 2 have\",\n",
        ")\n",
        "print(fmt_prompt)"
      ]
    },
    {
      "cell_type": "markdown",
      "id": "4f21e05d-145a-4d0a-b36e-10e9685af32c",
      "metadata": {
        "id": "4f21e05d-145a-4d0a-b36e-10e9685af32c"
      },
      "source": [
        "### 3. Prompt Function Mappings\n",
        "\n",
        "You can also pass in functions as template variables instead of fixed values.\n",
        "\n",
        "This allows you to dynamically inject certain values, dependent on other values, during query-time.\n",
        "\n",
        "Here are some basic examples. We show more advanced examples (e.g. few-shot examples) in our Prompt Engineering for RAG guide."
      ]
    },
    {
      "cell_type": "code",
      "execution_count": 9,
      "id": "dffd1302-ec1c-411d-b0ef-23fd40ea4ba9",
      "metadata": {
        "id": "dffd1302-ec1c-411d-b0ef-23fd40ea4ba9"
      },
      "outputs": [],
      "source": [
        "qa_prompt_tmpl_str = \"\"\"\\\n",
        "Context information is below.\n",
        "---------------------\n",
        "{context_str}\n",
        "---------------------\n",
        "Given the context information and not prior knowledge, answer the query.\n",
        "Query: {query_str}\n",
        "Answer: \\\n",
        "\"\"\"\n",
        "\n",
        "\n",
        "def format_context_fn(**kwargs):\n",
        "    # format context with bullet points\n",
        "    context_list = kwargs[\"context_str\"].split(\"\\n\\n\")\n",
        "    fmtted_context = \"\\n\\n\".join([f\"- {c}\" for c in context_list])\n",
        "    return fmtted_context\n",
        "\n",
        "\n",
        "prompt_tmpl = PromptTemplate(\n",
        "    qa_prompt_tmpl_str, function_mappings={\"context_str\": format_context_fn}\n",
        ")"
      ]
    },
    {
      "cell_type": "code",
      "execution_count": 10,
      "id": "6e078289-f0bc-4848-9e97-7bf7eb4abbc1",
      "metadata": {
        "collapsed": true,
        "id": "6e078289-f0bc-4848-9e97-7bf7eb4abbc1",
        "outputId": "713620e7-fe83-46d7-8465-59dc33b37c89",
        "colab": {
          "base_uri": "https://localhost:8080/"
        }
      },
      "outputs": [
        {
          "output_type": "stream",
          "name": "stdout",
          "text": [
            "Context information is below.\n",
            "---------------------\n",
            "- In this work, we develop and release Llama 2, a collection of pretrained and fine-tuned large language models (LLMs) ranging in scale from 7 billion to 70 billion parameters.\n",
            "\n",
            "- Our fine-tuned LLMs, called Llama 2-Chat, are optimized for dialogue use cases.\n",
            "\n",
            "- Our models outperform open-source chat models on most benchmarks we tested, and based on our human evaluations for helpfulness and safety, may be a suitable substitute for closed-source models.\n",
            "\n",
            "---------------------\n",
            "Given the context information and not prior knowledge, answer the query.\n",
            "Query: How many params does llama 2 have\n",
            "Answer: \n"
          ]
        }
      ],
      "source": [
        "context_str = \"\"\"\\\n",
        "In this work, we develop and release Llama 2, a collection of pretrained and fine-tuned large language models (LLMs) ranging in scale from 7 billion to 70 billion parameters.\n",
        "\n",
        "Our fine-tuned LLMs, called Llama 2-Chat, are optimized for dialogue use cases.\n",
        "\n",
        "Our models outperform open-source chat models on most benchmarks we tested, and based on our human evaluations for helpfulness and safety, may be a suitable substitute for closed-source models.\n",
        "\"\"\"\n",
        "\n",
        "fmt_prompt = prompt_tmpl.format(\n",
        "    context_str=context_str, query_str=\"How many params does llama 2 have\"\n",
        ")\n",
        "print(fmt_prompt)"
      ]
    }
  ],
  "metadata": {
    "kernelspec": {
      "display_name": "llama_index_v2",
      "language": "python",
      "name": "llama_index_v2"
    },
    "language_info": {
      "codemirror_mode": {
        "name": "ipython",
        "version": 3
      },
      "file_extension": ".py",
      "mimetype": "text/x-python",
      "name": "python",
      "nbconvert_exporter": "python",
      "pygments_lexer": "ipython3"
    },
    "colab": {
      "provenance": [],
      "toc_visible": true
    }
  },
  "nbformat": 4,
  "nbformat_minor": 5
}